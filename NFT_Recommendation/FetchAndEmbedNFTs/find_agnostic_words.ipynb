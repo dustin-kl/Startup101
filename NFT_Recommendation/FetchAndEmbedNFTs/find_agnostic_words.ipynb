{
 "cells": [
  {
   "cell_type": "code",
   "execution_count": 2,
   "metadata": {},
   "outputs": [],
   "source": [
    "import numpy as np\n",
    "import nltk\n"
   ]
  },
  {
   "cell_type": "code",
   "execution_count": 3,
   "metadata": {},
   "outputs": [],
   "source": [
    "NFT_attributes = np.load('../data/NFT_attributes.npz')\n",
    "d = dict(zip((\"description_list\",\"contract_addresses\",\"name_list\"), (NFT_attributes[k] for k in NFT_attributes)))\n",
    "description_list = d['description_list']\n",
    "contract_addresses = d['contract_addresses']\n",
    "name_list = d['name_list']"
   ]
  },
  {
   "cell_type": "code",
   "execution_count": null,
   "metadata": {},
   "outputs": [],
   "source": [
    "words = {}\n",
    "\n",
    "for desc in description_list:\n",
    "    word_list = nltk.word_tokenize(desc.lower())\n",
    "    for word in word_list:\n",
    "        if word in words.keys():\n",
    "            words[word] += 1\n",
    "        else :\n",
    "            words[word] = 1\n",
    "\n",
    "# search for most frequent words\n",
    "most_frequent_words = sorted(words.items(), key=lambda x: x[1], reverse=True)\n",
    "print(most_frequent_words[:1000])\n",
    "\n",
    "\n",
    "agnostic_words = ['https', 'nft', 'collection', 'unique', 'nfts', 'Ethereum','world','blockchain','community','created', 'digital', \n",
    "'crypto', 'token', 'bitcoin', 'holders', 'artist', 'metaverse', 'minting', 'countdown', 'piece', 'x', 'genesis', 'generative', \n",
    "'game', 'space', 'mint', 'hodl']"
   ]
  },
  {
   "cell_type": "code",
   "execution_count": 20,
   "metadata": {},
   "outputs": [
    {
     "name": "stdout",
     "output_type": "stream",
     "text": [
      "loading model\n"
     ]
    }
   ],
   "source": [
    "from sentence_transformers import SentenceTransformer\n",
    "modelPath = \"../data/bert-base-model\"\n",
    "\n",
    "print('Loading Model')\n",
    "model_loaded = SentenceTransformer(modelPath)\n",
    "print('Model Loaded')"
   ]
  },
  {
   "cell_type": "code",
   "execution_count": 11,
   "metadata": {},
   "outputs": [
    {
     "name": "stdout",
     "output_type": "stream",
     "text": [
      "https is in agnostic_words\n",
      "['https://www.nft.com/collection/unique-nfts-created-on-the-Ethereum-world']\n"
     ]
    }
   ],
   "source": [
    "if 'http' in 'https://www.nft.com/collection/unique-nfts-created-on-the-Ethereum-world'.split()[0]:\n",
    "    print('https is in agnostic_words')\n",
    "print('https://www.nft.com/collection/unique-nfts-created-on-the-Ethereum-world'.split())"
   ]
  },
  {
   "cell_type": "code",
   "execution_count": null,
   "metadata": {},
   "outputs": [],
   "source": []
  }
 ],
 "metadata": {
  "interpreter": {
   "hash": "b2522a7ac3b60f852504f7e2e80aa0b42867087115d2f979bf28cdf9a03dea8d"
  },
  "kernelspec": {
   "display_name": "Python 3.9.12 ('web3')",
   "language": "python",
   "name": "python3"
  },
  "language_info": {
   "codemirror_mode": {
    "name": "ipython",
    "version": 3
   },
   "file_extension": ".py",
   "mimetype": "text/x-python",
   "name": "python",
   "nbconvert_exporter": "python",
   "pygments_lexer": "ipython3",
   "version": "3.9.12"
  },
  "orig_nbformat": 4
 },
 "nbformat": 4,
 "nbformat_minor": 2
}
