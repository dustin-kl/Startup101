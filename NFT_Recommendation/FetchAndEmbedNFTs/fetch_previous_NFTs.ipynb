{
 "cells": [
  {
   "cell_type": "code",
   "execution_count": 5,
   "metadata": {},
   "outputs": [],
   "source": [
    "import urllib.request\n",
    "import numpy as np\n",
    "import requests"
   ]
  },
  {
   "cell_type": "code",
   "execution_count": null,
   "metadata": {},
   "outputs": [],
   "source": [
    "NFT_list = np.load('../data//addresses.npz')"
   ]
  },
  {
   "cell_type": "code",
   "execution_count": 18,
   "metadata": {},
   "outputs": [
    {
     "name": "stdout",
     "output_type": "stream",
     "text": [
      "dict_keys(['id', 'blockchain', 'collection', 'contract', 'tokenId', 'creators', 'lazySupply', 'pending', 'mintedAt', 'lastUpdatedAt', 'supply', 'meta', 'deleted', 'bestSellOrder', 'auctions', 'totalStock', 'sellers'])\n"
     ]
    },
    {
     "ename": "KeyError",
     "evalue": "'lastSale'",
     "output_type": "error",
     "traceback": [
      "\u001b[0;31m---------------------------------------------------------------------------\u001b[0m",
      "\u001b[0;31mKeyError\u001b[0m                                  Traceback (most recent call last)",
      "\u001b[1;32m/home/dustin/Documents/Ducia/NFT_Embedding/etc/fetch_previous_NFTs.ipynb Cell 2'\u001b[0m in \u001b[0;36m<cell line: 4>\u001b[0;34m()\u001b[0m\n\u001b[1;32m     <a href='vscode-notebook-cell:/home/dustin/Documents/Ducia/NFT_Embedding/etc/fetch_previous_NFTs.ipynb#ch0000001?line=12'>13</a>\u001b[0m     \u001b[39mcontinue\u001b[39;00m\n\u001b[1;32m     <a href='vscode-notebook-cell:/home/dustin/Documents/Ducia/NFT_Embedding/etc/fetch_previous_NFTs.ipynb#ch0000001?line=13'>14</a>\u001b[0m \u001b[39mprint\u001b[39m(NFTjson\u001b[39m.\u001b[39mkeys())\n\u001b[0;32m---> <a href='vscode-notebook-cell:/home/dustin/Documents/Ducia/NFT_Embedding/etc/fetch_previous_NFTs.ipynb#ch0000001?line=14'>15</a>\u001b[0m previous_holder \u001b[39m=\u001b[39m NFTjson[\u001b[39m'\u001b[39;49m\u001b[39mlastSale\u001b[39;49m\u001b[39m'\u001b[39;49m][\u001b[39m'\u001b[39m\u001b[39mseller\u001b[39m\u001b[39m'\u001b[39m]\n",
      "\u001b[0;31mKeyError\u001b[0m: 'lastSale'"
     ]
    }
   ],
   "source": [
    "\n",
    "previous_holders = []\n",
    "NFT_list = [('0xb66a603f4cfe17e3d27b87a8bfcad319856518b8','32292934596187112148346015918544186536963932779440027682601542850818403729410')]\n",
    "blockchain = 'ETHEREUM'\n",
    "for i, address in enumerate(NFT_list):\n",
    "    contract_address = address[0]\n",
    "    token_Id = address[1]\n",
    "    itemId = f'{blockchain}:{contract_address}:{token_Id}'\n",
    "    URL = f\"https://api.rarible.org/v0.1/items/{itemId}\"\n",
    "    NFT = requests.get(URL)\n",
    "    try:\n",
    "        NFTjson = NFT.json()\n",
    "    except:\n",
    "        continue\n",
    "    print(NFTjson.keys())\n",
    "    previous_holder = NFTjson['lastSale']['seller']\n",
    "    # if i % 100 == 0:\n",
    "    #     print(f'{i}/{len()}')"
   ]
  },
  {
   "cell_type": "code",
   "execution_count": null,
   "metadata": {},
   "outputs": [],
   "source": []
  }
 ],
 "metadata": {
  "kernelspec": {
   "display_name": "Python 3.9.12 ('web3')",
   "language": "python",
   "name": "python3"
  },
  "language_info": {
   "name": "python",
   "version": "3.9.12"
  },
  "orig_nbformat": 4,
  "vscode": {
   "interpreter": {
    "hash": "b2522a7ac3b60f852504f7e2e80aa0b42867087115d2f979bf28cdf9a03dea8d"
   }
  }
 },
 "nbformat": 4,
 "nbformat_minor": 2
}
