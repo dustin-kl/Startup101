{
 "cells": [
  {
   "cell_type": "code",
   "execution_count": 1,
   "metadata": {},
   "outputs": [
    {
     "name": "stderr",
     "output_type": "stream",
     "text": [
      "/home/dustin/anaconda3/envs/web3/lib/python3.9/site-packages/tqdm/auto.py:22: TqdmWarning: IProgress not found. Please update jupyter and ipywidgets. See https://ipywidgets.readthedocs.io/en/stable/user_install.html\n",
      "  from .autonotebook import tqdm as notebook_tqdm\n"
     ]
    }
   ],
   "source": [
    "from http import client\n",
    "from urllib import response\n",
    "from PIL import Image\n",
    "from sklearn.metrics.pairwise import cosine_similarity\n",
    "from sklearn.decomposition import PCA\n",
    "from sklearn.manifold import TSNE\n",
    "from img2vec_pytorch import Img2Vec\n",
    "from sentence_transformers import SentenceTransformer\n",
    "import plotly.express as px\n",
    "import plotly.graph_objects as go\n",
    "import urllib.request\n",
    "import requests\n",
    "import pandas as pd\n",
    "import json\n",
    "import pprint\n",
    "import seaborn as sns\n",
    "import matplotlib.pyplot as plt\n",
    "import json\n",
    "import numpy as np"
   ]
  },
  {
   "cell_type": "code",
   "execution_count": 2,
   "metadata": {},
   "outputs": [
    {
     "name": "stdout",
     "output_type": "stream",
     "text": [
      "Load Description Embeddings\n",
      "(11083, 768)\n",
      "Load Description Labels, Address Labels and Name Labels\n",
      "(11083,)\n"
     ]
    }
   ],
   "source": [
    "# Import Data\n",
    "print('Load Description Embeddings')\n",
    "desc_emb = np.load('../data/desc_emb.npz')\n",
    "traindata_desc_embeddings = dict(zip((\"desc_embeddings\"), (desc_emb[k] for k in desc_emb)))['d']\n",
    "print(traindata_desc_embeddings.shape)\n",
    "\n",
    "print('Load Description Labels, Address Labels and Name Labels')\n",
    "NFT_attributes = np.load('../data/NFT_attributes.npz')\n",
    "d = dict(zip((\"description_list\",\"contract_addresses\",\"name_list\"), (NFT_attributes[k] for k in NFT_attributes)))\n",
    "description_list = d['description_list']\n",
    "contract_addresses = d['contract_addresses']\n",
    "name_list = d['name_list']\n",
    "print(description_list.shape)\n",
    "\n",
    "train_desc_address = list(zip(contract_addresses, traindata_desc_embeddings, description_list))\n"
   ]
  },
  {
   "cell_type": "code",
   "execution_count": 3,
   "metadata": {},
   "outputs": [],
   "source": [
    "def find_basketball(key_words, dictionary):\n",
    "    if type(dictionary) is dict:\n",
    "        ret_value = 0\n",
    "        for key in dictionary.keys():\n",
    "            ret_value += find_basketball(key_words, dictionary[key])\n",
    "        if ret_value > 0:\n",
    "            return 1\n",
    "        return 0\n",
    "    elif type(dictionary) is str:\n",
    "        for key in key_words:\n",
    "            if key in dictionary.lower():\n",
    "                return 1\n",
    "    return 0"
   ]
  },
  {
   "cell_type": "code",
   "execution_count": 4,
   "metadata": {},
   "outputs": [],
   "source": [
    "key_words = ['basketball', 'nba', 'hoops']\n",
    "counter = 0"
   ]
  },
  {
   "cell_type": "code",
   "execution_count": null,
   "metadata": {},
   "outputs": [],
   "source": [
    "key_words = ['basketball', 'nba', ]\n",
    "counter = 0\n",
    "# Only Description\n",
    "# for description in description_list:\n",
    "#     for key_word in key_words:\n",
    "#         if key_word in description.lower():\n",
    "#             counter += 1\n",
    "#             break\n",
    "\n",
    "NFTjson_list = []\n",
    "for i, address in enumerate(contract_addresses):\n",
    "    #print(counter)\n",
    "    # evtl muessen wir checken ob alles erc721 sind und tokenID 1 immer existiert\n",
    "    URL = f\"https://eth-mainnet.alchemyapi.io/v2/demo/getNFTMetadata?contractAddress={address}&tokenId=1&tokenType=erc721\"\n",
    "    NFT = requests.get(URL)\n",
    "    try:\n",
    "        NFTjson = NFT.json()\n",
    "        NFTjson_list.append(NFTjson)\n",
    "    except:\n",
    "        continue\n",
    "    if i % 100 == 0:\n",
    "        print(f'{i}/{len(contract_addresses)}')\n",
    "\n"
   ]
  },
  {
   "cell_type": "code",
   "execution_count": 11,
   "metadata": {},
   "outputs": [],
   "source": [
    "#np.savez('/home/dustin/Documents/Ducia/NFT_Embedding/data/NFTjson_list.npz', NFTjson_list=NFTjson_list)\n",
    "NFTjson_load = np.load('/home/dustin/Documents/Ducia/NFT_Embedding/data/NFTjson_list.npz',  allow_pickle=True)"
   ]
  },
  {
   "cell_type": "code",
   "execution_count": 18,
   "metadata": {},
   "outputs": [
    {
     "name": "stdout",
     "output_type": "stream",
     "text": [
      "dict_keys(['N'])\n",
      "<class 'numpy.ndarray'>\n"
     ]
    }
   ],
   "source": [
    "d = dict(zip((\"NFTjson_list\"), (NFTjson_load[k] for k in NFTjson_load)))\n",
    "print(d.keys())\n",
    "NFTjson_list = d['N']\n",
    "print(type(NFTjson_list))"
   ]
  },
  {
   "cell_type": "code",
   "execution_count": 23,
   "metadata": {},
   "outputs": [
    {
     "name": "stdout",
     "output_type": "stream",
     "text": [
      "0x14232931f4151a7a962c1929f670378159d87fb7\n"
     ]
    }
   ],
   "source": [
    "print(NFTjson_list[0]['contract']['address'])"
   ]
  },
  {
   "cell_type": "code",
   "execution_count": 27,
   "metadata": {},
   "outputs": [
    {
     "name": "stdout",
     "output_type": "stream",
     "text": [
      "Computing Count\n",
      "234 234\n"
     ]
    },
    {
     "data": {
      "text/plain": [
       "'\\nkeywords: basketball; only description --> Counter = 19 \\nkeywords: basketball,nba; only description --> Counter = 39\\nkeywords: basketball; all attributes --> Counter = \\nkeywords: basketball,nba; all attributes --> Counter = 233\\n'"
      ]
     },
     "execution_count": 27,
     "metadata": {},
     "output_type": "execute_result"
    }
   ],
   "source": [
    "print('Computing Count')\n",
    "address_list = []\n",
    "counter = 0\n",
    "for NFTjson in NFTjson_list:\n",
    "    bit = find_basketball(key_words, NFTjson)\n",
    "    counter += bit\n",
    "    if bit > 0:\n",
    "        address_list.append(NFTjson['contract']['address'])\n",
    "\n",
    "print(counter, len(address_list))\n",
    "\n",
    "'''\n",
    "keywords: basketball; only description --> Counter = 19 \n",
    "keywords: basketball,nba; only description --> Counter = 39\n",
    "keywords: basketball; all attributes --> Counter = \n",
    "keywords: basketball,nba; all attributes --> Counter = 233\n",
    "'''"
   ]
  },
  {
   "cell_type": "code",
   "execution_count": 5,
   "metadata": {},
   "outputs": [
    {
     "name": "stdout",
     "output_type": "stream",
     "text": [
      "{'key1': {'key11': 'basketbal', 'key12': 'Penis'}, 'key2': 'nba'}\n",
      "{'key11': 'basketbal', 'key12': 'Penis'}\n",
      "basketbal\n",
      "Penis\n",
      "nba\n",
      "1\n",
      "['basketball', 'nba']\n"
     ]
    }
   ],
   "source": [
    "dictionary = {'key1': {\n",
    "    'key11': 'basketbal',\n",
    "    'key12': 'Penis'\n",
    "},\n",
    "'key2': 'nba'\n",
    "}\n",
    "\n",
    "print(find_basketball(key_words, dictionary))\n",
    "print(key_words)"
   ]
  },
  {
   "cell_type": "code",
   "execution_count": null,
   "metadata": {},
   "outputs": [],
   "source": []
  }
 ],
 "metadata": {
  "kernelspec": {
   "display_name": "Python 3.9.12 ('web3')",
   "language": "python",
   "name": "python3"
  },
  "language_info": {
   "codemirror_mode": {
    "name": "ipython",
    "version": 3
   },
   "file_extension": ".py",
   "mimetype": "text/x-python",
   "name": "python",
   "nbconvert_exporter": "python",
   "pygments_lexer": "ipython3",
   "version": "3.9.12"
  },
  "orig_nbformat": 4,
  "vscode": {
   "interpreter": {
    "hash": "b2522a7ac3b60f852504f7e2e80aa0b42867087115d2f979bf28cdf9a03dea8d"
   }
  }
 },
 "nbformat": 4,
 "nbformat_minor": 2
}
