{
 "cells": [
  {
   "cell_type": "code",
   "execution_count": null,
   "metadata": {},
   "outputs": [],
   "source": [
    "from http import client\n",
    "from urllib import response\n",
    "from PIL import Image\n",
    "from sklearn.metrics.pairwise import cosine_similarity\n",
    "from sklearn.decomposition import PCA\n",
    "from sklearn.manifold import TSNE\n",
    "from img2vec_pytorch import Img2Vec\n",
    "from sentence_transformers import SentenceTransformer\n",
    "import plotly.express as px\n",
    "import plotly.graph_objects as go\n",
    "import urllib.request\n",
    "import requests\n",
    "import pandas as pd\n",
    "import json\n",
    "import pprint\n",
    "import seaborn as sns\n",
    "import matplotlib.pyplot as plt\n",
    "import json\n",
    "import numpy as np"
   ]
  },
  {
   "cell_type": "code",
   "execution_count": null,
   "metadata": {},
   "outputs": [],
   "source": [
    "description_list = []\n",
    "contract_addresses = []\n",
    "name_list = []\n",
    "\n",
    "for j in range(30):\n",
    "  with open(f'/home/dustin/Documents/Ducia/NFT_image_recommendation/Blockdaemon_NFT_Contracts/{j+1}.json') as json_file:\n",
    "      json_data = json.load(json_file)['data']\n",
    "\n",
    "  address_list = []\n",
    "  for i in json_data:\n",
    "      if (\"contracts\" in i.keys() and len(i[\"contracts\"]) > 0 and \"address\" in i[\"contracts\"][0].keys()):\n",
    "          address = i[\"contracts\"][0][\"address\"]\n",
    "          address_list.append(address)\n",
    "\n",
    "  print(\"new file yay :)\")\n",
    "\n",
    "  counter = 0\n",
    "  for address in address_list:\n",
    "      counter += 1\n",
    "      #print(counter)\n",
    "      # evtl muessen wir checken ob alles erc721 sind und tokenID 1 immer existiert\n",
    "      URL = f\"https://eth-mainnet.alchemyapi.io/v2/demo/getNFTMetadata?contractAddress={address}&tokenId=1&tokenType=erc721\"\n",
    "      NFT = requests.get(URL)\n",
    "      try:\n",
    "          NFTjson = NFT.json()\n",
    "      except:\n",
    "          continue\n",
    "      if (type(NFTjson) is dict and \"metadata\" in NFTjson.keys() and type(NFTjson[\"metadata\"]) is dict and \"description\" in NFTjson[\"metadata\"].keys()):\n",
    "          print('This is what we want')\n",
    "          external_url = NFTjson[\"metadata\"][\"description\"]\n",
    "          description_list.append(external_url)\n",
    "          contract_addresses.append(address)\n",
    "          name = \"Not Available\"\n",
    "          if (type(NFTjson[\"metadata\"]) is dict and \"title\" in NFTjson[\"metadata\"].keys()):\n",
    "            name = NFTjson[\"metadata\"][\"title\"]\n",
    "          name_list.append(name)\n"
   ]
  },
  {
   "cell_type": "code",
   "execution_count": null,
   "metadata": {},
   "outputs": [],
   "source": [
    "np.savez('/home/dustin/Documents/Ducia/NFT_image_recommendation/NFT_attributes.npz', description_list=description_list, contract_addresses=contract_addresses, name_list=name_list)\n",
    "# NFT_attributes = np.load('./data/NFT_attributes.npz')\n",
    "# d = dict(zip((\"description_list\",\"contract_addresses\",\"name_list\"), (NFT_attributes[k] for k in NFT_attributes)))\n",
    "# description_list = d['description_list']\n",
    "# contract_addresses = d['contract_addresses']\n",
    "# name_list = d['name_list']"
   ]
  }
 ],
 "metadata": {
  "language_info": {
   "name": "python"
  },
  "orig_nbformat": 4
 },
 "nbformat": 4,
 "nbformat_minor": 2
}
