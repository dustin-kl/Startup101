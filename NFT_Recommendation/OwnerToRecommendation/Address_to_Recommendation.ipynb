{
 "cells": [
  {
   "cell_type": "code",
   "execution_count": 15,
   "metadata": {},
   "outputs": [],
   "source": [
    "import numpy as np\n",
    "import pandas as pd\n",
    "import requests\n",
    "\n",
    "from sentence_transformers import SentenceTransformer\n",
    "from sklearn.cluster import KMeans"
   ]
  },
  {
   "cell_type": "code",
   "execution_count": null,
   "metadata": {},
   "outputs": [],
   "source": [
    "# Import Data\n",
    "print('Load Description Embeddings')\n",
    "desc_emb = np.load('../data/desc_emb.npz')\n",
    "traindata_desc_embeddings = dict(zip((\"desc_embeddings\"), (desc_emb[k] for k in desc_emb)))['d']\n",
    "print(traindata_desc_embeddings.shape)\n",
    "\n",
    "print('Load Description Labels, Address Labels and Name Labels')\n",
    "NFT_attributes = np.load('../data/NFT_attributes.npz')\n",
    "d = dict(zip((\"description_list\",\"contract_addresses\",\"name_list\"), (NFT_attributes[k] for k in NFT_attributes)))\n",
    "description_list = d['description_list']\n",
    "contract_addresses = d['contract_addresses']\n",
    "name_list = d['name_list']\n",
    "print(description_list.shape)\n",
    "\n",
    "train_desc_address = list(zip(contract_addresses, traindata_desc_embeddings, description_list))\n"
   ]
  },
  {
   "cell_type": "code",
   "execution_count": null,
   "metadata": {},
   "outputs": [],
   "source": [
    "def find_nearest_neighbor(embedding, embedding_list):\n",
    "    min_index = 0\n",
    "    min_distance = 100\n",
    "    for j, dj in enumerate(embedding_list):\n",
    "        distance = np.sum(np.square((embedding - dj)))\n",
    "        if distance < min_distance and distance > 1e-6:\n",
    "            min_distance = distance\n",
    "            min_index = j\n",
    "    return min_index, embedding_list[min_index], min_distance\n"
   ]
  },
  {
   "cell_type": "code",
   "execution_count": 17,
   "metadata": {},
   "outputs": [],
   "source": [
    "# Here we store the address of the person logging in with MetaMask \n",
    "OWNER = '0xe11BFCBDd43745d4Aa6f4f18E24aD24f4623af04'\n",
    "\n",
    "URL = f'https://eth-mainnet.alchemyapi.io/v2/demo/getNFTs/?owner={OWNER}'\n",
    "Owner_NFTs = requests.get(URL).json()['ownedNfts']\n",
    "\n",
    "#Format is (Contractaddress, tokenId)\n",
    "owner_nfts = []\n",
    "\n",
    "for nft in Owner_NFTs:\n",
    "    nft_contract_address = nft['contract']['address'] \n",
    "    token_id = nft['id']['tokenId']\n",
    "    owner_nfts.append((nft_contract_address, token_id))"
   ]
  },
  {
   "cell_type": "code",
   "execution_count": 18,
   "metadata": {},
   "outputs": [
    {
     "name": "stdout",
     "output_type": "stream",
     "text": [
      "('0x000386e3f7559d9b6a2f5c46b4ad1a9587d59dc3', '0x0000000000000000000000000000000000000000000000000000000000000003', 'COUNTDOWN OVER. MINTING LIVE.  [https://nikentfs.xyz](https://nikentfs.xyz)')\n"
     ]
    }
   ],
   "source": [
    "# Get Description of All NFTs of Owner\n",
    "Owner_nft_fullAttributes = []\n",
    "Owner_Descriptions = []\n",
    "\n",
    "for nft in owner_nfts:\n",
    "    nft_contract_address = nft[0]\n",
    "    token_id = nft[1]\n",
    "    URL = f\"https://eth-mainnet.alchemyapi.io/v2/demo/getNFTMetadata?contractAddress={nft_contract_address}&tokenId={token_id}\"\n",
    "    NFT = requests.get(URL)\n",
    "    try:\n",
    "        NFTjson = NFT.json()\n",
    "    except:\n",
    "        continue\n",
    "    if (type(NFTjson) is dict and \"metadata\" in NFTjson.keys() and type(NFTjson[\"metadata\"]) is dict and \"description\" in NFTjson[\"metadata\"].keys()):\n",
    "        description = NFTjson[\"metadata\"][\"description\"]\n",
    "        Owner_Descriptions.append(description)\n",
    "        Owner_nft_fullAttributes.append((nft_contract_address, token_id, description))\n",
    "\n",
    "print(Owner_nft_fullAttributes[0])"
   ]
  },
  {
   "cell_type": "code",
   "execution_count": 23,
   "metadata": {},
   "outputs": [
    {
     "name": "stderr",
     "output_type": "stream",
     "text": [
      "Batches: 100%|██████████| 1/1 [00:00<00:00,  8.70it/s]\n"
     ]
    },
    {
     "name": "stdout",
     "output_type": "stream",
     "text": [
      "shape of the embedding of the description: (768,)\n",
      "Input NFT Description:  COUNTDOWN OVER. MINTING LIVE.  [https://nikentfs.xyz](https://nikentfs.xyz)\n",
      "Output NFT Descriptions for top 5 matches ('COUNTDOWN OVER. MINTING LIVE.  [https://ikusanft.xyz](https://ikusanft.xyz)', 'COUNTDOWN OVER. MINTING LIVE.  [https://apiensnft.xyz](https://apiensnft.xyz)', 'COUNTDOWN OVER. MINTING LIVE.  [https://haagendazsofficial.xyz](https://haagendazsofficial.xyz)', 'COUNTDOWN OVER. MINTING LIVE.  [https://haagendazsofficial.xyz](https://haagendazsofficial.xyz)', 'COUNTDOWN OVER. MINTING LIVE.  [https://haagendazsofficial.xyz](https://haagendazsofficial.xyz)')\n"
     ]
    }
   ],
   "source": [
    "# Option 1: User then chooses a specific NFT and we provide X (e.g. X = 5) recommendations\n",
    "X = 5\n",
    "\n",
    "#Set dependent on User Input\n",
    "owner_nfts_withDesc_index = 0\n",
    "nft_description = Owner_nft_fullAttributes[owner_nfts_withDesc_index][2]\n",
    "\n",
    "# Later on here we will just load out finetuned model from above\n",
    "model = SentenceTransformer('bert-base-nli-mean-tokens')\n",
    "\n",
    "#description embeddings\n",
    "nft_description_embedding = model.encode(nft_description, normalize_embeddings=True, show_progress_bar=True, batch_size = 64)\n",
    "\n",
    "print(f'shape of the embedding of the description: {nft_description_embedding.shape}')\n",
    "\n",
    "#now a quadruple of distance, embedded desc, desc and address but later will also have id\n",
    "recommendations = []\n",
    "total_recommendations = 0\n",
    "\n",
    "for i, j in enumerate(train_desc_address):\n",
    "    train_address = j[0]\n",
    "    train_description_embedding = j[1]\n",
    "    train_description = j[2]\n",
    "\n",
    "    distance = np.sum(np.square((train_description_embedding - nft_description_embedding)))\n",
    "\n",
    "    if (i < X and distance > 1e-6):\n",
    "        recommendations.append((distance, train_description_embedding, train_description, train_address))\n",
    "        recommendations.sort(key = lambda x: x[0])\n",
    "    else:\n",
    "        highest_distance = recommendations[X-1][0]\n",
    "        if (distance < highest_distance and distance > 1e-6):\n",
    "            recommendations[X-1] = (distance, train_description_embedding, train_description, train_address)\n",
    "            recommendations.sort(key = lambda x: x[0])\n",
    "\n",
    "\n",
    "print(\"Input NFT Description: \", nft_description)\n",
    "print(f\"Output NFT Descriptions for top {X} matches\", list(zip(*recommendations))[2])"
   ]
  },
  {
   "cell_type": "code",
   "execution_count": null,
   "metadata": {},
   "outputs": [],
   "source": [
    "# Option 2: For all the NFTs the User have we find the X (e.g. X = 5) NFTs that are closest to any NFTs he already has\n",
    "\n",
    "print('Loading Model')\n",
    "model = SentenceTransformer('bert-base-nli-mean-tokens')\n",
    "\n",
    "#description embeddings\n",
    "print(f'Calculating embeddings for {len(Owner_Descriptions)} descriptions')\n",
    "Owner_desc_embeddings = model.encode(Owner_Descriptions, normalize_embeddings=True, show_progress_bar=True, batch_size = 64)\n",
    "\n",
    "number_of_OwnerNFTs = len(Owner_Descriptions)\n",
    "number_of_recommendations = 5\n",
    "recommendations, owner_desc = [], []\n",
    "\n",
    "for i in range(number_of_recommendations):\n",
    "    print(f'Calculating recommendations for {(i+1) % number_of_recommendations}/{number_of_recommendations}')\n",
    "    Owner_Nft = Owner_nft_fullAttributes[i % number_of_recommendations]\n",
    "    min_distance = 1e6\n",
    "    recommendation = (1e6, 0, 0, 0)\n",
    "    for j, train_desc_emb in enumerate(train_description_embedding):\n",
    "        distance = np.sum(np.square((train_desc_emb - Owner_desc_embeddings[i])))\n",
    "        if (distance < min_distance and distance > 1e-6):\n",
    "            recommendation = (distance, train_description_embedding, train_description, train_address)\n",
    "            min_distance = distance\n",
    "\n",
    "    recommendations.append(recommendation)\n",
    "    owner_desc.append(Owner_Nft[2])\n",
    "\n",
    "for i in range(number_of_recommendations):\n",
    "    print(f'\\nRecommendation {i+1}/{number_of_recommendations}')\n",
    "    print(f'Owner NFT: {owner_desc[i%number_of_recommendations]}')\n",
    "    print(f\"Recommended NFT Descriptions: \", list(zip(*recommendations))[2][i])\n"
   ]
  },
  {
   "cell_type": "code",
   "execution_count": 1,
   "metadata": {},
   "outputs": [
    {
     "name": "stdout",
     "output_type": "stream",
     "text": [
      "Calculating Recommendations for 1 NFT\n"
     ]
    },
    {
     "ename": "NameError",
     "evalue": "name 'Owner_desc_embeddings' is not defined",
     "output_type": "error",
     "traceback": [
      "\u001b[0;31m---------------------------------------------------------------------------\u001b[0m",
      "\u001b[0;31mNameError\u001b[0m                                 Traceback (most recent call last)",
      "\u001b[1;32m/home/dustin/Documents/Ducia/NFT_Embedding/Owner_Recommendation/Address_to_Recommendation.ipynb Cell 8'\u001b[0m in \u001b[0;36m<cell line: 5>\u001b[0;34m()\u001b[0m\n\u001b[1;32m      <a href='vscode-notebook-cell:/home/dustin/Documents/Ducia/NFT_Embedding/Owner_Recommendation/Address_to_Recommendation.ipynb#ch0000006?line=0'>1</a>\u001b[0m \u001b[39mprint\u001b[39m(\u001b[39m'\u001b[39m\u001b[39mCalculating Recommendations for 1 NFT\u001b[39m\u001b[39m'\u001b[39m)\n\u001b[1;32m      <a href='vscode-notebook-cell:/home/dustin/Documents/Ducia/NFT_Embedding/Owner_Recommendation/Address_to_Recommendation.ipynb#ch0000006?line=2'>3</a>\u001b[0m recommendatons \u001b[39m=\u001b[39m []\n\u001b[0;32m----> <a href='vscode-notebook-cell:/home/dustin/Documents/Ducia/NFT_Embedding/Owner_Recommendation/Address_to_Recommendation.ipynb#ch0000006?line=4'>5</a>\u001b[0m \u001b[39mfor\u001b[39;00m i, owner_emb \u001b[39min\u001b[39;00m \u001b[39menumerate\u001b[39m(Owner_desc_embeddings):\n\u001b[1;32m      <a href='vscode-notebook-cell:/home/dustin/Documents/Ducia/NFT_Embedding/Owner_Recommendation/Address_to_Recommendation.ipynb#ch0000006?line=5'>6</a>\u001b[0m     index, neighbor_emb, distance \u001b[39m=\u001b[39m find_nearest_neighbor(owner_emb, train_description_embedding)\n\u001b[1;32m      <a href='vscode-notebook-cell:/home/dustin/Documents/Ducia/NFT_Embedding/Owner_Recommendation/Address_to_Recommendation.ipynb#ch0000006?line=6'>7</a>\u001b[0m     recommendatons\u001b[39m.\u001b[39mappend(find_nearest_neighbor(distance, neighbor_emb, train_description, train_address))\n",
      "\u001b[0;31mNameError\u001b[0m: name 'Owner_desc_embeddings' is not defined"
     ]
    }
   ],
   "source": [
    "print('Calculating Recommendations for 1 NFT')\n",
    "\n",
    "recommendatons = []\n",
    "\n",
    "for i, owner_emb in enumerate(Owner_desc_embeddings):\n",
    "    index, neighbor_emb, distance = find_nearest_neighbor(owner_emb, train_description_embedding)\n",
    "    recommendatons.append(find_nearest_neighbor(distance, neighbor_emb, train_description, train_address))\n",
    "\n",
    "    print(f'\\n\\nThe closest NFT for Owner_NFT_{i} is All_NFT_{index} with a distance of {min_distance}')\n",
    "    print(f'\\ndescription Owner_NFT_{i}: {Owner_Descriptions[:100]}')\n",
    "    print(f'\\ndescription All_NFT_{index}: {description_list[index][:100]}')"
   ]
  },
  {
   "cell_type": "code",
   "execution_count": null,
   "metadata": {},
   "outputs": [],
   "source": []
  }
 ],
 "metadata": {
  "interpreter": {
   "hash": "b2522a7ac3b60f852504f7e2e80aa0b42867087115d2f979bf28cdf9a03dea8d"
  },
  "kernelspec": {
   "display_name": "Python 3.9.12 ('web3')",
   "language": "python",
   "name": "python3"
  },
  "language_info": {
   "codemirror_mode": {
    "name": "ipython",
    "version": 3
   },
   "file_extension": ".py",
   "mimetype": "text/x-python",
   "name": "python",
   "nbconvert_exporter": "python",
   "pygments_lexer": "ipython3",
   "version": "3.9.12"
  },
  "orig_nbformat": 4
 },
 "nbformat": 4,
 "nbformat_minor": 2
}
